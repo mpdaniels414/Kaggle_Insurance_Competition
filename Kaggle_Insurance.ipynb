{
 "cells": [
  {
   "cell_type": "code",
   "execution_count": 458,
   "outputs": [],
   "source": [
    "import pandas as pd\n",
    "import numpy as np\n",
    "from sklearn.model_selection import train_test_split, RandomizedSearchCV\n",
    "from sklearn.preprocessing import LabelEncoder, StandardScaler\n",
    "from sklearn.metrics import mean_squared_error, r2_score\n",
    "from xgboost import XGBRegressor"
   ],
   "metadata": {
    "collapsed": false,
    "ExecuteTime": {
     "end_time": "2024-12-20T18:16:07.246528600Z",
     "start_time": "2024-12-20T18:16:07.212525800Z"
    }
   },
   "id": "53342c6d0da5b345"
  },
  {
   "cell_type": "code",
   "execution_count": 459,
   "outputs": [],
   "source": [
    "# Load the data\n",
    "train = pd.read_csv('train.csv')\n",
    "test = pd.read_csv('test.csv')\n",
    "\n",
    "train['Policy Start Date'] = pd.to_datetime(train['Policy Start Date'])\n",
    "test['Policy Start Date'] = pd.to_datetime(test['Policy Start Date'])"
   ],
   "metadata": {
    "collapsed": false,
    "ExecuteTime": {
     "end_time": "2024-12-20T18:16:13.121183400Z",
     "start_time": "2024-12-20T18:16:07.220527Z"
    }
   },
   "id": "b12ad44e4a116c0c"
  },
  {
   "cell_type": "code",
   "execution_count": 460,
   "outputs": [],
   "source": [
    "# Extract date features\n",
    "for df in [train, test]:\n",
    "    # Extract date components\n",
    "    df['Policy_Month'] = df['Policy Start Date'].dt.month\n",
    "    df['Policy_Year'] = df['Policy Start Date'].dt.year\n",
    "    df['Policy_Day'] = df['Policy Start Date'].dt.day\n",
    "    df['Policy_DayOfWeek'] = df['Policy Start Date'].dt.dayofweek\n",
    "\n",
    "    # Apply sine and cosine transformations\n",
    "    df['Policy_Month_sin'] = np.sin(2 * np.pi * df['Policy_Month'] / 12)\n",
    "    df['Policy_Month_cos'] = np.cos(2 * np.pi * df['Policy_Month'] / 12)\n",
    "\n",
    "    df['Policy_Year_sin'] = np.sin(2 * np.pi * (df['Policy_Year'] - df['Policy_Year'].min()) / (df['Policy_Year'].max() - df['Policy_Year'].min()))\n",
    "    df['Policy_Year_cos'] = np.cos(2 * np.pi * (df['Policy_Year'] - df['Policy_Year'].min()) / (df['Policy_Year'].max() - df['Policy_Year'].min()))\n",
    "\n",
    "\n",
    "    df['Policy_DayOfWeek_sin'] = np.sin(2 * np.pi * df['Policy_DayOfWeek'] / 7)\n",
    "    df['Policy_DayOfWeek_cos'] = np.cos(2 * np.pi * df['Policy_DayOfWeek'] / 7)"
   ],
   "metadata": {
    "collapsed": false,
    "ExecuteTime": {
     "end_time": "2024-12-20T18:16:13.734183Z",
     "start_time": "2024-12-20T18:16:13.124183700Z"
    }
   },
   "id": "55c936b795188ae8"
  },
  {
   "cell_type": "code",
   "execution_count": 461,
   "outputs": [],
   "source": [
    "# 2. Handle categorical variables\n",
    "categorical_columns = ['Gender', 'Marital Status', 'Education Level', 'Occupation', \n",
    "                      'Location', 'Policy Type', 'Customer Feedback', 'Smoking Status', \n",
    "                      'Exercise Frequency', 'Property Type']\n",
    "\n",
    "# Label encode categorical variables\n",
    "le_dict = {}\n",
    "for col in categorical_columns:\n",
    "    le_dict[col] = LabelEncoder()\n",
    "    if col in train.columns:\n",
    "        train[col] = train[col].fillna('Missing')\n",
    "        test[col] = test[col].fillna('Missing')\n",
    "        le_dict[col].fit(list(train[col].unique()) + list(test[col].unique()))\n",
    "        train[col] = le_dict[col].transform(train[col])\n",
    "        test[col] = le_dict[col].transform(test[col])\n"
   ],
   "metadata": {
    "collapsed": false,
    "ExecuteTime": {
     "end_time": "2024-12-20T18:16:25.972184Z",
     "start_time": "2024-12-20T18:16:13.737182700Z"
    }
   },
   "id": "10869112d6cdd2e9"
  },
  {
   "cell_type": "code",
   "execution_count": 462,
   "outputs": [],
   "source": [
    "# 3. Handle numerical variables\n",
    "numerical_columns = ['Age', 'Annual Income', 'Number of Dependents', 'Health Score',\n",
    "                    'Previous Claims', 'Vehicle Age', 'Credit Score', 'Insurance Duration']\n",
    "\n",
    "# Fill missing values with median\n",
    "for col in numerical_columns:\n",
    "    median_val = train[col].median()\n",
    "    train[col] = train[col].fillna(median_val)\n",
    "    test[col] = test[col].fillna(median_val)\n",
    "    \n",
    "# Scale numerical features\n",
    "scaler = StandardScaler()\n",
    "train[numerical_columns] = scaler.fit_transform(train[numerical_columns])\n",
    "test[numerical_columns] = scaler.transform(test[numerical_columns])"
   ],
   "metadata": {
    "collapsed": false,
    "ExecuteTime": {
     "end_time": "2024-12-20T18:16:26.507184900Z",
     "start_time": "2024-12-20T18:16:25.974186Z"
    }
   },
   "id": "aa95f7e52de4c6ac"
  },
  {
   "cell_type": "code",
   "execution_count": 463,
   "outputs": [],
   "source": [
    "# Add new features to the training dataset\n",
    "train['Previous Claims / Age'] = train['Previous Claims'] / (train['Age'] + 1)  # Avoid division by zero\n",
    "train['Previous Claims^2'] = train['Previous Claims']**2\n",
    "train['Age * Previous Claims'] = train['Age'] * train['Previous Claims']\n",
    "train['Previous Claims / Number of Dependents'] = train['Previous Claims'] / (train['Number of Dependents'] + 1)  # Avoid division by zero\n",
    "train['Number of Dependents * Previous Claims'] = train['Number of Dependents'] * train['Previous Claims']\n",
    "train['Health Score * Previous Claims'] = train['Health Score'] * train['Previous Claims']\n",
    "train['Previous Claims / Health Score'] = train['Previous Claims'] / (train['Health Score'] + 1)  # Avoid division by zero\n",
    "train['Credit Score / Previous Claims'] = train['Credit Score'] / (train['Previous Claims'] + 1)  # Avoid division by zero\n",
    "train['Insurance Duration * Previous Claims'] = train['Insurance Duration'] * train['Previous Claims']\n",
    "train['Health Score * Credit Score * Previous Claims'] = train['Health Score'] * train['Credit Score'] * train['Previous Claims']\n",
    "train['Annual Income * Previous Claims'] = train['Annual Income'] * train['Previous Claims']\n",
    "train['Smoking_Health_Interaction'] = (train['Smoking Status']+1) * train['Health Score']**2\n",
    "train['Smoking_Age_Health_Interaction'] = (train['Smoking Status']+1) * train['Health Score']**2 / train['Age']**(1/2)\n",
    " \n",
    "# Add new features to the testing dataset\n",
    "test['Previous Claims / Age'] = test['Previous Claims'] / (test['Age'] + 1)  # Avoid division by zero\n",
    "test['Previous Claims^2'] = test['Previous Claims']**2\n",
    "test['Age * Previous Claims'] = test['Age'] * test['Previous Claims']\n",
    "test['Previous Claims / Number of Dependents'] = test['Previous Claims'] / (test['Number of Dependents'] + 1)  # Avoid division by zero\n",
    "test['Number of Dependents * Previous Claims'] = test['Number of Dependents'] * test['Previous Claims']\n",
    "test['Health Score * Previous Claims'] = test['Health Score'] * test['Previous Claims']\n",
    "test['Previous Claims / Health Score'] = test['Previous Claims'] / (test['Health Score'] + 1)  # Avoid division by zero\n",
    "test['Credit Score / Previous Claims'] = test['Credit Score'] / (test['Previous Claims'] + 1)  # Avoid division by zero\n",
    "test['Insurance Duration * Previous Claims'] = test['Insurance Duration'] * test['Previous Claims']\n",
    "test['Health Score * Credit Score * Previous Claims'] = test['Health Score'] * test['Credit Score'] * test['Previous Claims']\n",
    "test['Annual Income * Previous Claims'] = test['Annual Income'] * test['Previous Claims']\n",
    "test['Smoking_Health_Interaction'] = (test['Smoking Status']+1) * test['Health Score']**2\n",
    "test['Smoking_Age_Health_Interaction'] = (test['Smoking Status']+1) * test['Health Score']**2 / test['Age']**(1/2)"
   ],
   "metadata": {
    "collapsed": false,
    "ExecuteTime": {
     "end_time": "2024-12-20T18:16:26.744185900Z",
     "start_time": "2024-12-20T18:16:26.513184600Z"
    }
   },
   "id": "36097f1a47f86613"
  },
  {
   "cell_type": "code",
   "execution_count": 464,
   "outputs": [],
   "source": [
    "# Prepare features and target\n",
    "# Add all new features to the features list\n",
    "new_features = [\n",
    "    'Previous Claims / Age',\n",
    "    'Previous Claims^2',\n",
    "    'Age * Previous Claims',\n",
    "    'Previous Claims / Number of Dependents',\n",
    "    'Number of Dependents * Previous Claims',\n",
    "    'Health Score * Previous Claims',\n",
    "    'Previous Claims / Health Score',\n",
    "    'Credit Score / Previous Claims',\n",
    "    'Insurance Duration * Previous Claims',\n",
    "    'Health Score * Credit Score * Previous Claims',\n",
    "    'Annual Income * Previous Claims',\n",
    "    'Smoking_Health_Interaction',\n",
    "    'Smoking_Age_Health_Interaction',\n",
    "]\n",
    "\n",
    "chronological_features = ['Policy_Month', 'Policy_Month_sin', 'Policy_Month_cos',\n",
    "    'Policy_Year', 'Policy_Year_sin', 'Policy_Year_cos',\n",
    "    'Policy_Day',\n",
    "    'Policy_DayOfWeek', 'Policy_DayOfWeek_sin', 'Policy_DayOfWeek_cos']\n",
    "\n",
    "features = numerical_columns + categorical_columns + chronological_features + new_features\n",
    "X = train[features]\n",
    "y = np.log1p(train['Premium Amount'])  # Log transform target for better distribution"
   ],
   "metadata": {
    "collapsed": false,
    "ExecuteTime": {
     "end_time": "2024-12-20T18:16:26.885184400Z",
     "start_time": "2024-12-20T18:16:26.746183600Z"
    }
   },
   "id": "b512110d9079ef53"
  },
  {
   "cell_type": "code",
   "execution_count": 465,
   "outputs": [
    {
     "data": {
      "text/plain": "              Age  Annual Income  Number of Dependents  Health Score  \\\n0       -1.648301      -0.707414             -0.746862     -0.249610   \n1       -0.159542      -0.023289              0.733500     -0.844110   \n2       -1.350549      -0.215473              0.733500      1.829212   \n3       -1.499425       3.461605             -0.006681     -1.235840   \n4       -1.499425       0.228896             -0.746862     -0.437598   \n...           ...            ...                   ...           ...   \n1199995 -0.382856      -0.161259             -1.487043     -0.996082   \n1199996  0.957026       0.106646             -0.006681     -1.189716   \n1199997 -1.648301       0.615826             -1.487043     -0.915601   \n1199998  1.031464      -0.268959             -0.746862     -0.592267   \n1199999 -1.499425      -0.268959             -1.487043     -1.304587   \n\n         Previous Claims  Vehicle Age  Credit Score  Insurance Duration  \\\n0               1.216739     1.286338     -1.567375           -0.007023   \n1              -0.002284     0.420713      0.714630           -1.163391   \n2              -0.002284     0.766963      0.013020           -0.777935   \n3              -0.002284    -1.656788     -1.602810           -1.548847   \n4              -1.221307    -0.271787      0.034281           -0.392479   \n...                  ...          ...           ...                 ...   \n1199995        -0.002284    -0.791163     -1.567375           -0.777935   \n1199996        -0.002284     0.074463      0.027194           -0.392479   \n1199997        -1.221307     1.632588      0.013020            0.378433   \n1199998        -0.002284    -0.444912     -1.319331           -0.392479   \n1199999        -1.221307     1.459463     -0.646068            0.378433   \n\n         Gender  Marital Status  ...  Previous Claims / Number of Dependents  \\\n0             0               1  ...                                4.806619   \n1             0               0  ...                               -0.001317   \n2             1               0  ...                               -0.001317   \n3             1               1  ...                               -0.002299   \n4             1               3  ...                               -4.824661   \n...         ...             ...  ...                                     ...   \n1199995       0               1  ...                                0.004689   \n1199996       1               0  ...                               -0.002299   \n1199997       1               0  ...                                2.507597   \n1199998       1               3  ...                               -0.009021   \n1199999       0               0  ...                                2.507597   \n\n         Number of Dependents * Previous Claims  \\\n0                                     -0.908736   \n1                                     -0.001675   \n2                                     -0.001675   \n3                                      0.000015   \n4                                      0.912147   \n...                                         ...   \n1199995                                0.003396   \n1199996                                0.000015   \n1199997                                1.816135   \n1199998                                0.001706   \n1199999                                1.816135   \n\n         Health Score * Previous Claims  Previous Claims / Health Score  \\\n0                             -0.303710                        1.621475   \n1                              0.001928                       -0.014649   \n2                             -0.004177                       -0.000807   \n3                              0.002822                        0.009683   \n4                              0.534441                       -2.171591   \n...                                 ...                             ...   \n1199995                        0.002275                       -0.582804   \n1199996                        0.002717                        0.012037   \n1199997                        1.118229                      -14.470555   \n1199998                        0.001353                       -0.005601   \n1199999                        1.593300                        4.009720   \n\n         Credit Score / Previous Claims  Insurance Duration * Previous Claims  \\\n0                             -0.707063                             -0.008545   \n1                              0.716266                              0.002657   \n2                              0.013050                              0.001777   \n3                             -1.606478                              0.003537   \n4                             -0.154902                              0.479337   \n...                                 ...                                   ...   \n1199995                       -1.570962                              0.001777   \n1199996                        0.027256                              0.000896   \n1199997                       -0.058832                             -0.462183   \n1199998                       -1.322351                              0.000896   \n1199999                        2.919337                             -0.462183   \n\n         Health Score * Credit Score * Previous Claims  \\\n0                                             0.476027   \n1                                             0.001378   \n2                                            -0.000054   \n3                                            -0.004523   \n4                                             0.018321   \n...                                                ...   \n1199995                                      -0.003565   \n1199996                                       0.000074   \n1199997                                       0.014559   \n1199998                                      -0.001784   \n1199999                                      -1.029381   \n\n         Annual Income * Previous Claims  Smoking_Health_Interaction  \\\n0                              -0.860738                    0.062305   \n1                               0.000053                    1.425044   \n2                               0.000492                    6.692034   \n3                              -0.007905                    3.054600   \n4                              -0.279552                    0.382984   \n...                                  ...                         ...   \n1199995                         0.000368                    0.992179   \n1199996                        -0.000244                    1.415425   \n1199997                        -0.752112                    0.838324   \n1199998                         0.000614                    0.350780   \n1199999                         0.328482                    3.403892   \n\n         Smoking_Age_Health_Interaction  \n0                                   NaN  \n1                                   NaN  \n2                                   NaN  \n3                                   NaN  \n4                                   NaN  \n...                                 ...  \n1199995                             NaN  \n1199996                        1.446855  \n1199997                             NaN  \n1199998                        0.345388  \n1199999                             NaN  \n\n[1200000 rows x 41 columns]",
      "text/html": "<div>\n<style scoped>\n    .dataframe tbody tr th:only-of-type {\n        vertical-align: middle;\n    }\n\n    .dataframe tbody tr th {\n        vertical-align: top;\n    }\n\n    .dataframe thead th {\n        text-align: right;\n    }\n</style>\n<table border=\"1\" class=\"dataframe\">\n  <thead>\n    <tr style=\"text-align: right;\">\n      <th></th>\n      <th>Age</th>\n      <th>Annual Income</th>\n      <th>Number of Dependents</th>\n      <th>Health Score</th>\n      <th>Previous Claims</th>\n      <th>Vehicle Age</th>\n      <th>Credit Score</th>\n      <th>Insurance Duration</th>\n      <th>Gender</th>\n      <th>Marital Status</th>\n      <th>...</th>\n      <th>Previous Claims / Number of Dependents</th>\n      <th>Number of Dependents * Previous Claims</th>\n      <th>Health Score * Previous Claims</th>\n      <th>Previous Claims / Health Score</th>\n      <th>Credit Score / Previous Claims</th>\n      <th>Insurance Duration * Previous Claims</th>\n      <th>Health Score * Credit Score * Previous Claims</th>\n      <th>Annual Income * Previous Claims</th>\n      <th>Smoking_Health_Interaction</th>\n      <th>Smoking_Age_Health_Interaction</th>\n    </tr>\n  </thead>\n  <tbody>\n    <tr>\n      <th>0</th>\n      <td>-1.648301</td>\n      <td>-0.707414</td>\n      <td>-0.746862</td>\n      <td>-0.249610</td>\n      <td>1.216739</td>\n      <td>1.286338</td>\n      <td>-1.567375</td>\n      <td>-0.007023</td>\n      <td>0</td>\n      <td>1</td>\n      <td>...</td>\n      <td>4.806619</td>\n      <td>-0.908736</td>\n      <td>-0.303710</td>\n      <td>1.621475</td>\n      <td>-0.707063</td>\n      <td>-0.008545</td>\n      <td>0.476027</td>\n      <td>-0.860738</td>\n      <td>0.062305</td>\n      <td>NaN</td>\n    </tr>\n    <tr>\n      <th>1</th>\n      <td>-0.159542</td>\n      <td>-0.023289</td>\n      <td>0.733500</td>\n      <td>-0.844110</td>\n      <td>-0.002284</td>\n      <td>0.420713</td>\n      <td>0.714630</td>\n      <td>-1.163391</td>\n      <td>0</td>\n      <td>0</td>\n      <td>...</td>\n      <td>-0.001317</td>\n      <td>-0.001675</td>\n      <td>0.001928</td>\n      <td>-0.014649</td>\n      <td>0.716266</td>\n      <td>0.002657</td>\n      <td>0.001378</td>\n      <td>0.000053</td>\n      <td>1.425044</td>\n      <td>NaN</td>\n    </tr>\n    <tr>\n      <th>2</th>\n      <td>-1.350549</td>\n      <td>-0.215473</td>\n      <td>0.733500</td>\n      <td>1.829212</td>\n      <td>-0.002284</td>\n      <td>0.766963</td>\n      <td>0.013020</td>\n      <td>-0.777935</td>\n      <td>1</td>\n      <td>0</td>\n      <td>...</td>\n      <td>-0.001317</td>\n      <td>-0.001675</td>\n      <td>-0.004177</td>\n      <td>-0.000807</td>\n      <td>0.013050</td>\n      <td>0.001777</td>\n      <td>-0.000054</td>\n      <td>0.000492</td>\n      <td>6.692034</td>\n      <td>NaN</td>\n    </tr>\n    <tr>\n      <th>3</th>\n      <td>-1.499425</td>\n      <td>3.461605</td>\n      <td>-0.006681</td>\n      <td>-1.235840</td>\n      <td>-0.002284</td>\n      <td>-1.656788</td>\n      <td>-1.602810</td>\n      <td>-1.548847</td>\n      <td>1</td>\n      <td>1</td>\n      <td>...</td>\n      <td>-0.002299</td>\n      <td>0.000015</td>\n      <td>0.002822</td>\n      <td>0.009683</td>\n      <td>-1.606478</td>\n      <td>0.003537</td>\n      <td>-0.004523</td>\n      <td>-0.007905</td>\n      <td>3.054600</td>\n      <td>NaN</td>\n    </tr>\n    <tr>\n      <th>4</th>\n      <td>-1.499425</td>\n      <td>0.228896</td>\n      <td>-0.746862</td>\n      <td>-0.437598</td>\n      <td>-1.221307</td>\n      <td>-0.271787</td>\n      <td>0.034281</td>\n      <td>-0.392479</td>\n      <td>1</td>\n      <td>3</td>\n      <td>...</td>\n      <td>-4.824661</td>\n      <td>0.912147</td>\n      <td>0.534441</td>\n      <td>-2.171591</td>\n      <td>-0.154902</td>\n      <td>0.479337</td>\n      <td>0.018321</td>\n      <td>-0.279552</td>\n      <td>0.382984</td>\n      <td>NaN</td>\n    </tr>\n    <tr>\n      <th>...</th>\n      <td>...</td>\n      <td>...</td>\n      <td>...</td>\n      <td>...</td>\n      <td>...</td>\n      <td>...</td>\n      <td>...</td>\n      <td>...</td>\n      <td>...</td>\n      <td>...</td>\n      <td>...</td>\n      <td>...</td>\n      <td>...</td>\n      <td>...</td>\n      <td>...</td>\n      <td>...</td>\n      <td>...</td>\n      <td>...</td>\n      <td>...</td>\n      <td>...</td>\n      <td>...</td>\n    </tr>\n    <tr>\n      <th>1199995</th>\n      <td>-0.382856</td>\n      <td>-0.161259</td>\n      <td>-1.487043</td>\n      <td>-0.996082</td>\n      <td>-0.002284</td>\n      <td>-0.791163</td>\n      <td>-1.567375</td>\n      <td>-0.777935</td>\n      <td>0</td>\n      <td>1</td>\n      <td>...</td>\n      <td>0.004689</td>\n      <td>0.003396</td>\n      <td>0.002275</td>\n      <td>-0.582804</td>\n      <td>-1.570962</td>\n      <td>0.001777</td>\n      <td>-0.003565</td>\n      <td>0.000368</td>\n      <td>0.992179</td>\n      <td>NaN</td>\n    </tr>\n    <tr>\n      <th>1199996</th>\n      <td>0.957026</td>\n      <td>0.106646</td>\n      <td>-0.006681</td>\n      <td>-1.189716</td>\n      <td>-0.002284</td>\n      <td>0.074463</td>\n      <td>0.027194</td>\n      <td>-0.392479</td>\n      <td>1</td>\n      <td>0</td>\n      <td>...</td>\n      <td>-0.002299</td>\n      <td>0.000015</td>\n      <td>0.002717</td>\n      <td>0.012037</td>\n      <td>0.027256</td>\n      <td>0.000896</td>\n      <td>0.000074</td>\n      <td>-0.000244</td>\n      <td>1.415425</td>\n      <td>1.446855</td>\n    </tr>\n    <tr>\n      <th>1199997</th>\n      <td>-1.648301</td>\n      <td>0.615826</td>\n      <td>-1.487043</td>\n      <td>-0.915601</td>\n      <td>-1.221307</td>\n      <td>1.632588</td>\n      <td>0.013020</td>\n      <td>0.378433</td>\n      <td>1</td>\n      <td>0</td>\n      <td>...</td>\n      <td>2.507597</td>\n      <td>1.816135</td>\n      <td>1.118229</td>\n      <td>-14.470555</td>\n      <td>-0.058832</td>\n      <td>-0.462183</td>\n      <td>0.014559</td>\n      <td>-0.752112</td>\n      <td>0.838324</td>\n      <td>NaN</td>\n    </tr>\n    <tr>\n      <th>1199998</th>\n      <td>1.031464</td>\n      <td>-0.268959</td>\n      <td>-0.746862</td>\n      <td>-0.592267</td>\n      <td>-0.002284</td>\n      <td>-0.444912</td>\n      <td>-1.319331</td>\n      <td>-0.392479</td>\n      <td>1</td>\n      <td>3</td>\n      <td>...</td>\n      <td>-0.009021</td>\n      <td>0.001706</td>\n      <td>0.001353</td>\n      <td>-0.005601</td>\n      <td>-1.322351</td>\n      <td>0.000896</td>\n      <td>-0.001784</td>\n      <td>0.000614</td>\n      <td>0.350780</td>\n      <td>0.345388</td>\n    </tr>\n    <tr>\n      <th>1199999</th>\n      <td>-1.499425</td>\n      <td>-0.268959</td>\n      <td>-1.487043</td>\n      <td>-1.304587</td>\n      <td>-1.221307</td>\n      <td>1.459463</td>\n      <td>-0.646068</td>\n      <td>0.378433</td>\n      <td>0</td>\n      <td>0</td>\n      <td>...</td>\n      <td>2.507597</td>\n      <td>1.816135</td>\n      <td>1.593300</td>\n      <td>4.009720</td>\n      <td>2.919337</td>\n      <td>-0.462183</td>\n      <td>-1.029381</td>\n      <td>0.328482</td>\n      <td>3.403892</td>\n      <td>NaN</td>\n    </tr>\n  </tbody>\n</table>\n<p>1200000 rows × 41 columns</p>\n</div>"
     },
     "execution_count": 465,
     "metadata": {},
     "output_type": "execute_result"
    }
   ],
   "source": [
    "X"
   ],
   "metadata": {
    "collapsed": false,
    "ExecuteTime": {
     "end_time": "2024-12-20T18:16:27.393184700Z",
     "start_time": "2024-12-20T18:16:26.886186100Z"
    }
   },
   "id": "9e95dcc9ff0281f1"
  },
  {
   "cell_type": "code",
   "execution_count": null,
   "outputs": [],
   "source": [
    "# Split the data\n",
    "X_train, X_val, y_train, y_val = train_test_split(X, y, test_size=0.2, random_state=42)"
   ],
   "metadata": {
    "collapsed": false,
    "is_executing": true,
    "ExecuteTime": {
     "start_time": "2024-12-20T18:16:27.395186Z"
    }
   },
   "id": "16fd8f6d578acbbc"
  },
  {
   "cell_type": "code",
   "execution_count": null,
   "outputs": [],
   "source": [
    "from xgboost import XGBRegressor\n",
    "from sklearn.model_selection import RandomizedSearchCV\n",
    "from sklearn.metrics import mean_squared_error, r2_score\n",
    "import numpy as np\n",
    "\n",
    "# Define the parameter distribution\n",
    "param_distributions = {\n",
    "    'max_depth': [3, 5, 6, 7, 9],              # Tree depth\n",
    "    'learning_rate': np.linspace(0.01, 0.2, 10),  # Learning rate\n",
    "    'n_estimators': [100, 200, 500, 1000],    # Number of trees\n",
    "    'min_child_weight': [1, 3, 5],            # Minimum child weight\n",
    "    'subsample': [0.6, 0.8, 1.0],             # Fraction of samples used for each tree\n",
    "    'colsample_bytree': [0.6, 0.8, 1.0],      # Fraction of features used for each tree\n",
    "    'reg_alpha': [0, 0.1, 0.5, 1.0],          # L1 regularization term\n",
    "    'reg_lambda': [0.5, 1.0, 2.0]             # L2 regularization term\n",
    "}\n",
    "\n",
    "# Initialize the XGBoost model\n",
    "xgb_model = XGBRegressor(random_state=42)\n",
    "\n",
    "# Set up RandomizedSearchCV\n",
    "random_search = RandomizedSearchCV(\n",
    "    estimator=xgb_model,\n",
    "    param_distributions=param_distributions,\n",
    "    n_iter=50,  # Number of random combinations to try\n",
    "    scoring='r2',  # Metric for evaluation\n",
    "    cv=5,  # 5-fold cross-validation\n",
    "    verbose=1,  # Print progress\n",
    "    random_state=42,  # Reproducibility\n",
    "    n_jobs=-1  # Use all available CPU cores\n",
    ")\n",
    "\n",
    "# Perform the search\n",
    "print(\"Starting Randomized Search...\")\n",
    "random_search.fit(X_train, y_train)\n",
    "print(\"Randomized Search completed.\")\n",
    "\n",
    "# Best parameters and model\n",
    "best_params = random_search.best_params_\n",
    "best_model = random_search.best_estimator_\n",
    "\n",
    "print(\"\\nBest Hyperparameters:\")\n",
    "print(best_params)\n",
    "\n",
    "# Evaluate the best model on the validation set\n",
    "y_pred = best_model.predict(X_val)\n",
    "mse = mean_squared_error(y_val, y_pred)\n",
    "r2 = r2_score(y_val, y_pred)\n",
    "\n",
    "print(\"\\nValidation Results:\")\n",
    "print('Mean Squared Error:', mse)\n",
    "print('R² Score:', r2)"
   ],
   "metadata": {
    "collapsed": false,
    "is_executing": true
   },
   "id": "d829babfa0fb75f5"
  },
  {
   "cell_type": "code",
   "execution_count": null,
   "outputs": [],
   "source": [
    "from xgboost import XGBRegressor\n",
    "from sklearn.metrics import mean_squared_error, r2_score\n",
    "\n",
    "# Use the best parameters from the search\n",
    "best_params = {\n",
    "    'subsample': 1.0,\n",
    "    'reg_lambda': 2.0,\n",
    "    'reg_alpha': 0.5,\n",
    "    'n_estimators': 100,\n",
    "    'min_child_weight': 3,\n",
    "    'max_depth': 9,\n",
    "    'learning_rate': 0.03111111111111111,\n",
    "    'colsample_bytree': 0.8,\n",
    "}\n",
    "\n",
    "# Initialize the final model\n",
    "final_model = XGBRegressor(**best_params, random_state=42)\n",
    "\n",
    "# Train the model on the training data\n",
    "final_model.fit(X_train, y_train)\n",
    "\n",
    "# Evaluate on validation set\n",
    "y_val_pred = final_model.predict(X_val)\n",
    "\n",
    "# Calculate performance metrics\n",
    "final_mse = mean_squared_error(y_val, y_val_pred)\n",
    "final_r2 = r2_score(y_val, y_val_pred)\n",
    "\n",
    "# Print the results\n",
    "print(\"Final Model Performance on Validation Set:\")\n",
    "print(f\"Mean Squared Error (MSE): {final_mse}\")\n",
    "print(f\"R² Score: {final_r2}\")"
   ],
   "metadata": {
    "collapsed": false,
    "is_executing": true
   },
   "id": "f36b6f23f5581461"
  },
  {
   "cell_type": "code",
   "execution_count": null,
   "outputs": [],
   "source": [
    "X_test = test[features]\n",
    "predictions = final_model.predict(X_test)"
   ],
   "metadata": {
    "collapsed": false,
    "is_executing": true
   },
   "id": "3364586fae6516b9"
  },
  {
   "cell_type": "code",
   "execution_count": null,
   "outputs": [],
   "source": [
    "df = pd.DataFrame({\n",
    "    'id':test['id'],\n",
    "    'premium amount': np.expm1(predictions)\n",
    "})"
   ],
   "metadata": {
    "collapsed": false,
    "is_executing": true
   },
   "id": "9569b414bc480c6c"
  },
  {
   "cell_type": "code",
   "execution_count": null,
   "outputs": [],
   "source": [
    "df"
   ],
   "metadata": {
    "collapsed": false,
    "is_executing": true
   },
   "id": "daa319dedafe64d2"
  },
  {
   "cell_type": "code",
   "execution_count": null,
   "outputs": [],
   "source": [
    "df.to_csv('predictions.csv', index = False)"
   ],
   "metadata": {
    "collapsed": false,
    "is_executing": true
   },
   "id": "7477fecc49acf91"
  },
  {
   "cell_type": "code",
   "execution_count": null,
   "outputs": [],
   "source": [],
   "metadata": {
    "collapsed": false,
    "is_executing": true
   },
   "id": "d1f05be297740237"
  }
 ],
 "metadata": {
  "kernelspec": {
   "name": "python3",
   "language": "python",
   "display_name": "Python 3 (ipykernel)"
  }
 },
 "nbformat": 4,
 "nbformat_minor": 5
}
